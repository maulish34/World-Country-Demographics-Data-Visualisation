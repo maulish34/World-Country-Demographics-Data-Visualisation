{
 "cells": [
  {
   "cell_type": "markdown",
   "metadata": {},
   "source": [
    "# Data Visualisation of various metrics of Countries    \n"
   ]
  },
  {
   "cell_type": "markdown",
   "metadata": {},
   "source": [
    "Imports\n"
   ]
  },
  {
   "cell_type": "code",
   "execution_count": 1,
   "metadata": {},
   "outputs": [],
   "source": [
    "import pandas as pd\n",
    "import numpy as np\n",
    "import altair as alt\n",
    "from altair import datum\n",
    "import geopandas as gpd\n",
    "from vega_datasets import data"
   ]
  },
  {
   "cell_type": "markdown",
   "metadata": {},
   "source": [
    "Importing the csv as dataframe"
   ]
  },
  {
   "cell_type": "code",
   "execution_count": 2,
   "metadata": {},
   "outputs": [
    {
     "name": "stdout",
     "output_type": "stream",
     "text": [
      "Index(['Country', 'id', 'Abbreviation', 'Latitude', 'Longitude',\n",
      "       'Density\\n(P/Km2)', 'Agricultural Land( %)', 'Land Area(Km2)',\n",
      "       'Armed Forces size', 'Birth Rate', 'Calling Code', 'Capital/Major City',\n",
      "       'Co2-Emissions', 'CPI', 'CPI Change (%)', 'Currency-Code',\n",
      "       'Fertility Rate', 'Forested Area (%)', 'Gasoline Price', 'GDP',\n",
      "       'Gross primary education enrollment (%)',\n",
      "       'Gross tertiary education enrollment (%)', 'Infant mortality',\n",
      "       'Largest city', 'Life expectancy', 'Maternal mortality ratio',\n",
      "       'Minimum wage', 'Official language', 'Out of pocket health expenditure',\n",
      "       'Physicians per thousand', 'Population',\n",
      "       'Population: Labor force participation (%)', 'Tax revenue (%)',\n",
      "       'Total tax rate', 'Unemployment rate', 'Urban_population'],\n",
      "      dtype='object')\n"
     ]
    }
   ],
   "source": [
    "# Load the data\n",
    "df = pd.read_excel('world-data-2023_new.xlsx')\n",
    "\n",
    "# print column names\n",
    "print(df.columns)"
   ]
  },
  {
   "cell_type": "code",
   "execution_count": 3,
   "metadata": {},
   "outputs": [
    {
     "name": "stdout",
     "output_type": "stream",
     "text": [
      "Country                                       0\n",
      "id                                            0\n",
      "Abbreviation                                  7\n",
      "Latitude                                      1\n",
      "Longitude                                     1\n",
      "Density\\n(P/Km2)                              0\n",
      "Agricultural Land( %)                         7\n",
      "Land Area(Km2)                                1\n",
      "Armed Forces size                            24\n",
      "Birth Rate                                    6\n",
      "Calling Code                                  1\n",
      "Capital/Major City                            3\n",
      "Co2-Emissions                                 7\n",
      "CPI                                          17\n",
      "CPI Change (%)                               16\n",
      "Currency-Code                                15\n",
      "Fertility Rate                                7\n",
      "Forested Area (%)                             7\n",
      "Gasoline Price                               20\n",
      "GDP                                           2\n",
      "Gross primary education enrollment (%)        7\n",
      "Gross tertiary education enrollment (%)      12\n",
      "Infant mortality                              6\n",
      "Largest city                                  6\n",
      "Life expectancy                               8\n",
      "Maternal mortality ratio                     14\n",
      "Minimum wage                                 45\n",
      "Official language                             5\n",
      "Out of pocket health expenditure              7\n",
      "Physicians per thousand                       7\n",
      "Population                                    1\n",
      "Population: Labor force participation (%)    19\n",
      "Tax revenue (%)                              26\n",
      "Total tax rate                               12\n",
      "Unemployment rate                            19\n",
      "Urban_population                              5\n",
      "dtype: int64\n"
     ]
    }
   ],
   "source": [
    "#  print column names with corresponding null values\n",
    "print(df.isnull().sum())"
   ]
  },
  {
   "cell_type": "markdown",
   "metadata": {},
   "source": [
    "Updating the dataset by adding continent and sub region columns, replacing missing values for the 2 letter codes according to ISO 3166 standard using country IDs"
   ]
  },
  {
   "cell_type": "code",
   "execution_count": 4,
   "metadata": {},
   "outputs": [],
   "source": [
    "# loading the new dataset as a dataframe https://github.com/lukes/ISO-3166-Countries-with-Regional-Codes/blob/master/all/all.csv\n",
    "iso_data = pd.read_csv('ISO-3166.csv')\n",
    "\n",
    "# selecting required columns\n",
    "iso_data = iso_data[['country-code', 'region', 'sub-region', 'alpha-2', 'alpha-3']] \n",
    "\n",
    "# merging the two dataframes\n",
    "df = pd.merge(df, iso_data, left_on='id', right_on='country-code', how='left')  "
   ]
  },
  {
   "cell_type": "markdown",
   "metadata": {},
   "source": [
    "viewing the updated dataset"
   ]
  },
  {
   "cell_type": "code",
   "execution_count": 5,
   "metadata": {},
   "outputs": [
    {
     "data": {
      "text/html": [
       "<div>\n",
       "<style scoped>\n",
       "    .dataframe tbody tr th:only-of-type {\n",
       "        vertical-align: middle;\n",
       "    }\n",
       "\n",
       "    .dataframe tbody tr th {\n",
       "        vertical-align: top;\n",
       "    }\n",
       "\n",
       "    .dataframe thead th {\n",
       "        text-align: right;\n",
       "    }\n",
       "</style>\n",
       "<table border=\"1\" class=\"dataframe\">\n",
       "  <thead>\n",
       "    <tr style=\"text-align: right;\">\n",
       "      <th></th>\n",
       "      <th>Country</th>\n",
       "      <th>id</th>\n",
       "      <th>Abbreviation</th>\n",
       "      <th>Latitude</th>\n",
       "      <th>Longitude</th>\n",
       "      <th>Density\\n(P/Km2)</th>\n",
       "      <th>Agricultural Land( %)</th>\n",
       "      <th>Land Area(Km2)</th>\n",
       "      <th>Armed Forces size</th>\n",
       "      <th>Birth Rate</th>\n",
       "      <th>...</th>\n",
       "      <th>Population: Labor force participation (%)</th>\n",
       "      <th>Tax revenue (%)</th>\n",
       "      <th>Total tax rate</th>\n",
       "      <th>Unemployment rate</th>\n",
       "      <th>Urban_population</th>\n",
       "      <th>country-code</th>\n",
       "      <th>region</th>\n",
       "      <th>sub-region</th>\n",
       "      <th>alpha-2</th>\n",
       "      <th>alpha-3</th>\n",
       "    </tr>\n",
       "  </thead>\n",
       "  <tbody>\n",
       "    <tr>\n",
       "      <th>0</th>\n",
       "      <td>Afghanistan</td>\n",
       "      <td>4</td>\n",
       "      <td>AF</td>\n",
       "      <td>33.939110</td>\n",
       "      <td>67.709953</td>\n",
       "      <td>60</td>\n",
       "      <td>0.581</td>\n",
       "      <td>652230.0</td>\n",
       "      <td>323000.0</td>\n",
       "      <td>32.49</td>\n",
       "      <td>...</td>\n",
       "      <td>0.489</td>\n",
       "      <td>0.093</td>\n",
       "      <td>0.714</td>\n",
       "      <td>0.1112</td>\n",
       "      <td>9797273.0</td>\n",
       "      <td>4</td>\n",
       "      <td>Asia</td>\n",
       "      <td>Southern Asia</td>\n",
       "      <td>AF</td>\n",
       "      <td>AFG</td>\n",
       "    </tr>\n",
       "    <tr>\n",
       "      <th>1</th>\n",
       "      <td>Albania</td>\n",
       "      <td>8</td>\n",
       "      <td>AL</td>\n",
       "      <td>41.153332</td>\n",
       "      <td>20.168331</td>\n",
       "      <td>105</td>\n",
       "      <td>0.431</td>\n",
       "      <td>28748.0</td>\n",
       "      <td>9000.0</td>\n",
       "      <td>11.78</td>\n",
       "      <td>...</td>\n",
       "      <td>0.557</td>\n",
       "      <td>0.186</td>\n",
       "      <td>0.366</td>\n",
       "      <td>0.1233</td>\n",
       "      <td>1747593.0</td>\n",
       "      <td>8</td>\n",
       "      <td>Europe</td>\n",
       "      <td>Southern Europe</td>\n",
       "      <td>AL</td>\n",
       "      <td>ALB</td>\n",
       "    </tr>\n",
       "    <tr>\n",
       "      <th>2</th>\n",
       "      <td>Algeria</td>\n",
       "      <td>12</td>\n",
       "      <td>DZ</td>\n",
       "      <td>28.033886</td>\n",
       "      <td>1.659626</td>\n",
       "      <td>18</td>\n",
       "      <td>0.174</td>\n",
       "      <td>2381741.0</td>\n",
       "      <td>317000.0</td>\n",
       "      <td>24.28</td>\n",
       "      <td>...</td>\n",
       "      <td>0.412</td>\n",
       "      <td>0.372</td>\n",
       "      <td>0.661</td>\n",
       "      <td>0.1170</td>\n",
       "      <td>31510100.0</td>\n",
       "      <td>12</td>\n",
       "      <td>Africa</td>\n",
       "      <td>Northern Africa</td>\n",
       "      <td>DZ</td>\n",
       "      <td>DZA</td>\n",
       "    </tr>\n",
       "    <tr>\n",
       "      <th>3</th>\n",
       "      <td>Andorra</td>\n",
       "      <td>20</td>\n",
       "      <td>AD</td>\n",
       "      <td>42.506285</td>\n",
       "      <td>1.521801</td>\n",
       "      <td>164</td>\n",
       "      <td>0.400</td>\n",
       "      <td>468.0</td>\n",
       "      <td>NaN</td>\n",
       "      <td>7.20</td>\n",
       "      <td>...</td>\n",
       "      <td>NaN</td>\n",
       "      <td>NaN</td>\n",
       "      <td>NaN</td>\n",
       "      <td>NaN</td>\n",
       "      <td>67873.0</td>\n",
       "      <td>20</td>\n",
       "      <td>Europe</td>\n",
       "      <td>Southern Europe</td>\n",
       "      <td>AD</td>\n",
       "      <td>AND</td>\n",
       "    </tr>\n",
       "    <tr>\n",
       "      <th>4</th>\n",
       "      <td>Angola</td>\n",
       "      <td>24</td>\n",
       "      <td>AO</td>\n",
       "      <td>-11.202692</td>\n",
       "      <td>17.873887</td>\n",
       "      <td>26</td>\n",
       "      <td>0.475</td>\n",
       "      <td>1246700.0</td>\n",
       "      <td>117000.0</td>\n",
       "      <td>40.73</td>\n",
       "      <td>...</td>\n",
       "      <td>0.775</td>\n",
       "      <td>0.092</td>\n",
       "      <td>0.491</td>\n",
       "      <td>0.0689</td>\n",
       "      <td>21061025.0</td>\n",
       "      <td>24</td>\n",
       "      <td>Africa</td>\n",
       "      <td>Sub-Saharan Africa</td>\n",
       "      <td>AO</td>\n",
       "      <td>AGO</td>\n",
       "    </tr>\n",
       "  </tbody>\n",
       "</table>\n",
       "<p>5 rows × 41 columns</p>\n",
       "</div>"
      ],
      "text/plain": [
       "       Country  id Abbreviation   Latitude  Longitude  Density\\n(P/Km2)  \\\n",
       "0  Afghanistan   4           AF  33.939110  67.709953                60   \n",
       "1      Albania   8           AL  41.153332  20.168331               105   \n",
       "2      Algeria  12           DZ  28.033886   1.659626                18   \n",
       "3      Andorra  20           AD  42.506285   1.521801               164   \n",
       "4       Angola  24           AO -11.202692  17.873887                26   \n",
       "\n",
       "   Agricultural Land( %)  Land Area(Km2)  Armed Forces size  Birth Rate  ...  \\\n",
       "0                  0.581        652230.0           323000.0       32.49  ...   \n",
       "1                  0.431         28748.0             9000.0       11.78  ...   \n",
       "2                  0.174       2381741.0           317000.0       24.28  ...   \n",
       "3                  0.400           468.0                NaN        7.20  ...   \n",
       "4                  0.475       1246700.0           117000.0       40.73  ...   \n",
       "\n",
       "   Population: Labor force participation (%) Tax revenue (%)  Total tax rate  \\\n",
       "0                                      0.489           0.093           0.714   \n",
       "1                                      0.557           0.186           0.366   \n",
       "2                                      0.412           0.372           0.661   \n",
       "3                                        NaN             NaN             NaN   \n",
       "4                                      0.775           0.092           0.491   \n",
       "\n",
       "   Unemployment rate  Urban_population country-code  region  \\\n",
       "0             0.1112         9797273.0            4    Asia   \n",
       "1             0.1233         1747593.0            8  Europe   \n",
       "2             0.1170        31510100.0           12  Africa   \n",
       "3                NaN           67873.0           20  Europe   \n",
       "4             0.0689        21061025.0           24  Africa   \n",
       "\n",
       "           sub-region alpha-2 alpha-3  \n",
       "0       Southern Asia      AF     AFG  \n",
       "1     Southern Europe      AL     ALB  \n",
       "2     Northern Africa      DZ     DZA  \n",
       "3     Southern Europe      AD     AND  \n",
       "4  Sub-Saharan Africa      AO     AGO  \n",
       "\n",
       "[5 rows x 41 columns]"
      ]
     },
     "execution_count": 5,
     "metadata": {},
     "output_type": "execute_result"
    }
   ],
   "source": [
    "df.head()"
   ]
  },
  {
   "cell_type": "markdown",
   "metadata": {},
   "source": [
    "dropping repeated columns"
   ]
  },
  {
   "cell_type": "code",
   "execution_count": 6,
   "metadata": {},
   "outputs": [
    {
     "data": {
      "text/plain": [
       "Index(['Country', 'Latitude', 'Longitude', 'Density\\n(P/Km2)',\n",
       "       'Agricultural Land( %)', 'Land Area(Km2)', 'Armed Forces size',\n",
       "       'Birth Rate', 'Calling Code', 'Capital/Major City', 'Co2-Emissions',\n",
       "       'CPI', 'CPI Change (%)', 'Currency-Code', 'Fertility Rate',\n",
       "       'Forested Area (%)', 'Gasoline Price', 'GDP',\n",
       "       'Gross primary education enrollment (%)',\n",
       "       'Gross tertiary education enrollment (%)', 'Infant mortality',\n",
       "       'Largest city', 'Life expectancy', 'Maternal mortality ratio',\n",
       "       'Minimum wage', 'Official language', 'Out of pocket health expenditure',\n",
       "       'Physicians per thousand', 'Population',\n",
       "       'Population: Labor force participation (%)', 'Tax revenue (%)',\n",
       "       'Total tax rate', 'Unemployment rate', 'Urban_population',\n",
       "       'country-code', 'region', 'sub-region', 'alpha-2', 'alpha-3'],\n",
       "      dtype='object')"
      ]
     },
     "execution_count": 6,
     "metadata": {},
     "output_type": "execute_result"
    }
   ],
   "source": [
    "df.drop(columns=['id', 'Abbreviation'], inplace=True)\n",
    "df.columns"
   ]
  },
  {
   "cell_type": "markdown",
   "metadata": {},
   "source": [
    "checking if any added columns have missing values"
   ]
  },
  {
   "cell_type": "code",
   "execution_count": 7,
   "metadata": {},
   "outputs": [
    {
     "data": {
      "text/plain": [
       "alpha-2       1\n",
       "alpha-3       0\n",
       "region        0\n",
       "sub-region    0\n",
       "dtype: int64"
      ]
     },
     "execution_count": 7,
     "metadata": {},
     "output_type": "execute_result"
    }
   ],
   "source": [
    "# checking if any added columns have missing values\n",
    "df[['alpha-2', 'alpha-3', 'region', 'sub-region']].isnull().sum()"
   ]
  },
  {
   "cell_type": "code",
   "execution_count": 8,
   "metadata": {},
   "outputs": [
    {
     "name": "stdout",
     "output_type": "stream",
     "text": [
      "     Country  country-code alpha-3\n",
      "119  Namibia           516     NAM\n"
     ]
    }
   ],
   "source": [
    "# printing out the country code and name for the country with missing alpha-2 code\n",
    "print(df[df['alpha-2'].isnull()][['Country', 'country-code', 'alpha-3']])"
   ]
  },
  {
   "cell_type": "code",
   "execution_count": 9,
   "metadata": {},
   "outputs": [
    {
     "name": "stdout",
     "output_type": "stream",
     "text": [
      "     Country  country-code alpha-2\n",
      "119  Namibia           516      NA\n"
     ]
    }
   ],
   "source": [
    "#  adding the missing alpha-2 code from https://www.iban.com/country-codes\n",
    "df.loc[df['country-code'] == 516, 'alpha-2'] = 'NA'\n",
    "\n",
    "#  checking if the missing alpha-2 code has been added\n",
    "print(df[df['country-code'] == 516][['Country', 'country-code', 'alpha-2']])"
   ]
  },
  {
   "cell_type": "markdown",
   "metadata": {},
   "source": [
    "checking data types of columns"
   ]
  },
  {
   "cell_type": "code",
   "execution_count": 10,
   "metadata": {},
   "outputs": [
    {
     "name": "stdout",
     "output_type": "stream",
     "text": [
      "<class 'pandas.core.frame.DataFrame'>\n",
      "RangeIndex: 195 entries, 0 to 194\n",
      "Data columns (total 39 columns):\n",
      " #   Column                                     Non-Null Count  Dtype  \n",
      "---  ------                                     --------------  -----  \n",
      " 0   Country                                    195 non-null    object \n",
      " 1   Latitude                                   194 non-null    float64\n",
      " 2   Longitude                                  194 non-null    float64\n",
      " 3   Density\n",
      "(P/Km2)                            195 non-null    int64  \n",
      " 4   Agricultural Land( %)                      188 non-null    float64\n",
      " 5   Land Area(Km2)                             194 non-null    float64\n",
      " 6   Armed Forces size                          171 non-null    float64\n",
      " 7   Birth Rate                                 189 non-null    float64\n",
      " 8   Calling Code                               194 non-null    float64\n",
      " 9   Capital/Major City                         192 non-null    object \n",
      " 10  Co2-Emissions                              188 non-null    float64\n",
      " 11  CPI                                        178 non-null    float64\n",
      " 12  CPI Change (%)                             179 non-null    float64\n",
      " 13  Currency-Code                              180 non-null    object \n",
      " 14  Fertility Rate                             188 non-null    float64\n",
      " 15  Forested Area (%)                          188 non-null    float64\n",
      " 16  Gasoline Price                             175 non-null    object \n",
      " 17  GDP                                        193 non-null    object \n",
      " 18  Gross primary education enrollment (%)     188 non-null    float64\n",
      " 19  Gross tertiary education enrollment (%)    183 non-null    float64\n",
      " 20  Infant mortality                           189 non-null    float64\n",
      " 21  Largest city                               189 non-null    object \n",
      " 22  Life expectancy                            187 non-null    float64\n",
      " 23  Maternal mortality ratio                   181 non-null    float64\n",
      " 24  Minimum wage                               150 non-null    object \n",
      " 25  Official language                          190 non-null    object \n",
      " 26  Out of pocket health expenditure           188 non-null    float64\n",
      " 27  Physicians per thousand                    188 non-null    float64\n",
      " 28  Population                                 194 non-null    float64\n",
      " 29  Population: Labor force participation (%)  176 non-null    float64\n",
      " 30  Tax revenue (%)                            169 non-null    float64\n",
      " 31  Total tax rate                             183 non-null    float64\n",
      " 32  Unemployment rate                          176 non-null    float64\n",
      " 33  Urban_population                           190 non-null    float64\n",
      " 34  country-code                               195 non-null    int64  \n",
      " 35  region                                     195 non-null    object \n",
      " 36  sub-region                                 195 non-null    object \n",
      " 37  alpha-2                                    195 non-null    object \n",
      " 38  alpha-3                                    195 non-null    object \n",
      "dtypes: float64(25), int64(2), object(12)\n",
      "memory usage: 59.5+ KB\n"
     ]
    }
   ],
   "source": [
    "df.info()"
   ]
  },
  {
   "cell_type": "markdown",
   "metadata": {},
   "source": [
    "transforming some percentage and currency datatypes to make them compatible with vega altair"
   ]
  },
  {
   "cell_type": "code",
   "execution_count": 11,
   "metadata": {},
   "outputs": [],
   "source": [
    "# multiplying all the columns with '%' into 100 to get the actual percentage value and converting the columns to float\n",
    "percentage_columns = [col for col in df.columns if '%' in col]\n",
    "for col in percentage_columns:\n",
    "    df[col] = df[col] * 100\n",
    "    df[col] = df[col].astype(float)"
   ]
  },
  {
   "cell_type": "code",
   "execution_count": 12,
   "metadata": {},
   "outputs": [
    {
     "data": {
      "text/html": [
       "<div>\n",
       "<style scoped>\n",
       "    .dataframe tbody tr th:only-of-type {\n",
       "        vertical-align: middle;\n",
       "    }\n",
       "\n",
       "    .dataframe tbody tr th {\n",
       "        vertical-align: top;\n",
       "    }\n",
       "\n",
       "    .dataframe thead th {\n",
       "        text-align: right;\n",
       "    }\n",
       "</style>\n",
       "<table border=\"1\" class=\"dataframe\">\n",
       "  <thead>\n",
       "    <tr style=\"text-align: right;\">\n",
       "      <th></th>\n",
       "      <th>Agricultural Land( %)</th>\n",
       "      <th>CPI Change (%)</th>\n",
       "      <th>Forested Area (%)</th>\n",
       "      <th>Gross primary education enrollment (%)</th>\n",
       "      <th>Gross tertiary education enrollment (%)</th>\n",
       "      <th>Population: Labor force participation (%)</th>\n",
       "      <th>Tax revenue (%)</th>\n",
       "    </tr>\n",
       "  </thead>\n",
       "  <tbody>\n",
       "    <tr>\n",
       "      <th>0</th>\n",
       "      <td>58.1</td>\n",
       "      <td>2.3</td>\n",
       "      <td>2.1</td>\n",
       "      <td>104.0</td>\n",
       "      <td>9.7</td>\n",
       "      <td>48.9</td>\n",
       "      <td>9.3</td>\n",
       "    </tr>\n",
       "    <tr>\n",
       "      <th>1</th>\n",
       "      <td>43.1</td>\n",
       "      <td>1.4</td>\n",
       "      <td>28.1</td>\n",
       "      <td>107.0</td>\n",
       "      <td>55.0</td>\n",
       "      <td>55.7</td>\n",
       "      <td>18.6</td>\n",
       "    </tr>\n",
       "    <tr>\n",
       "      <th>2</th>\n",
       "      <td>17.4</td>\n",
       "      <td>2.0</td>\n",
       "      <td>0.8</td>\n",
       "      <td>109.9</td>\n",
       "      <td>51.4</td>\n",
       "      <td>41.2</td>\n",
       "      <td>37.2</td>\n",
       "    </tr>\n",
       "    <tr>\n",
       "      <th>3</th>\n",
       "      <td>40.0</td>\n",
       "      <td>NaN</td>\n",
       "      <td>34.0</td>\n",
       "      <td>106.4</td>\n",
       "      <td>NaN</td>\n",
       "      <td>NaN</td>\n",
       "      <td>NaN</td>\n",
       "    </tr>\n",
       "    <tr>\n",
       "      <th>4</th>\n",
       "      <td>47.5</td>\n",
       "      <td>17.1</td>\n",
       "      <td>46.3</td>\n",
       "      <td>113.5</td>\n",
       "      <td>9.3</td>\n",
       "      <td>77.5</td>\n",
       "      <td>9.2</td>\n",
       "    </tr>\n",
       "  </tbody>\n",
       "</table>\n",
       "</div>"
      ],
      "text/plain": [
       "   Agricultural Land( %)  CPI Change (%)  Forested Area (%)  \\\n",
       "0                   58.1             2.3                2.1   \n",
       "1                   43.1             1.4               28.1   \n",
       "2                   17.4             2.0                0.8   \n",
       "3                   40.0             NaN               34.0   \n",
       "4                   47.5            17.1               46.3   \n",
       "\n",
       "   Gross primary education enrollment (%)  \\\n",
       "0                                   104.0   \n",
       "1                                   107.0   \n",
       "2                                   109.9   \n",
       "3                                   106.4   \n",
       "4                                   113.5   \n",
       "\n",
       "   Gross tertiary education enrollment (%)  \\\n",
       "0                                      9.7   \n",
       "1                                     55.0   \n",
       "2                                     51.4   \n",
       "3                                      NaN   \n",
       "4                                      9.3   \n",
       "\n",
       "   Population: Labor force participation (%)  Tax revenue (%)  \n",
       "0                                       48.9              9.3  \n",
       "1                                       55.7             18.6  \n",
       "2                                       41.2             37.2  \n",
       "3                                        NaN              NaN  \n",
       "4                                       77.5              9.2  "
      ]
     },
     "execution_count": 12,
     "metadata": {},
     "output_type": "execute_result"
    }
   ],
   "source": [
    "df[percentage_columns].head()"
   ]
  },
  {
   "cell_type": "code",
   "execution_count": 13,
   "metadata": {},
   "outputs": [],
   "source": [
    "# changing the columns with currency signs to float\n",
    "currency_columns = ['GDP', 'Minimum wage', 'Gasoline Price']\n",
    "\n",
    "# removing the currency signs and saving it as a float value\n",
    "for col in currency_columns:\n",
    "    df[col] = df[col].str.replace('$', '').str.replace(',', '').astype(float)\n",
    "\n"
   ]
  },
  {
   "cell_type": "code",
   "execution_count": 14,
   "metadata": {},
   "outputs": [
    {
     "data": {
      "text/html": [
       "<div>\n",
       "<style scoped>\n",
       "    .dataframe tbody tr th:only-of-type {\n",
       "        vertical-align: middle;\n",
       "    }\n",
       "\n",
       "    .dataframe tbody tr th {\n",
       "        vertical-align: top;\n",
       "    }\n",
       "\n",
       "    .dataframe thead th {\n",
       "        text-align: right;\n",
       "    }\n",
       "</style>\n",
       "<table border=\"1\" class=\"dataframe\">\n",
       "  <thead>\n",
       "    <tr style=\"text-align: right;\">\n",
       "      <th></th>\n",
       "      <th>GDP</th>\n",
       "      <th>Minimum wage</th>\n",
       "      <th>Gasoline Price</th>\n",
       "    </tr>\n",
       "  </thead>\n",
       "  <tbody>\n",
       "    <tr>\n",
       "      <th>0</th>\n",
       "      <td>1.910135e+10</td>\n",
       "      <td>0.43</td>\n",
       "      <td>0.70</td>\n",
       "    </tr>\n",
       "    <tr>\n",
       "      <th>1</th>\n",
       "      <td>1.527808e+10</td>\n",
       "      <td>1.12</td>\n",
       "      <td>1.36</td>\n",
       "    </tr>\n",
       "    <tr>\n",
       "      <th>2</th>\n",
       "      <td>1.699882e+11</td>\n",
       "      <td>0.95</td>\n",
       "      <td>0.28</td>\n",
       "    </tr>\n",
       "    <tr>\n",
       "      <th>3</th>\n",
       "      <td>3.154058e+09</td>\n",
       "      <td>6.63</td>\n",
       "      <td>1.51</td>\n",
       "    </tr>\n",
       "    <tr>\n",
       "      <th>4</th>\n",
       "      <td>9.463542e+10</td>\n",
       "      <td>0.71</td>\n",
       "      <td>0.97</td>\n",
       "    </tr>\n",
       "  </tbody>\n",
       "</table>\n",
       "</div>"
      ],
      "text/plain": [
       "            GDP  Minimum wage  Gasoline Price\n",
       "0  1.910135e+10          0.43            0.70\n",
       "1  1.527808e+10          1.12            1.36\n",
       "2  1.699882e+11          0.95            0.28\n",
       "3  3.154058e+09          6.63            1.51\n",
       "4  9.463542e+10          0.71            0.97"
      ]
     },
     "execution_count": 14,
     "metadata": {},
     "output_type": "execute_result"
    }
   ],
   "source": [
    "df[currency_columns].head()"
   ]
  },
  {
   "cell_type": "markdown",
   "metadata": {},
   "source": [
    "checking if data types have been updated"
   ]
  },
  {
   "cell_type": "code",
   "execution_count": null,
   "metadata": {},
   "outputs": [],
   "source": []
  },
  {
   "cell_type": "code",
   "execution_count": 15,
   "metadata": {},
   "outputs": [
    {
     "name": "stdout",
     "output_type": "stream",
     "text": [
      "<class 'pandas.core.frame.DataFrame'>\n",
      "RangeIndex: 195 entries, 0 to 194\n",
      "Data columns (total 39 columns):\n",
      " #   Column                                     Non-Null Count  Dtype  \n",
      "---  ------                                     --------------  -----  \n",
      " 0   Country                                    195 non-null    object \n",
      " 1   Latitude                                   194 non-null    float64\n",
      " 2   Longitude                                  194 non-null    float64\n",
      " 3   Density\n",
      "(P/Km2)                            195 non-null    int64  \n",
      " 4   Agricultural Land( %)                      188 non-null    float64\n",
      " 5   Land Area(Km2)                             194 non-null    float64\n",
      " 6   Armed Forces size                          171 non-null    float64\n",
      " 7   Birth Rate                                 189 non-null    float64\n",
      " 8   Calling Code                               194 non-null    float64\n",
      " 9   Capital/Major City                         192 non-null    object \n",
      " 10  Co2-Emissions                              188 non-null    float64\n",
      " 11  CPI                                        178 non-null    float64\n",
      " 12  CPI Change (%)                             179 non-null    float64\n",
      " 13  Currency-Code                              180 non-null    object \n",
      " 14  Fertility Rate                             188 non-null    float64\n",
      " 15  Forested Area (%)                          188 non-null    float64\n",
      " 16  Gasoline Price                             175 non-null    float64\n",
      " 17  GDP                                        193 non-null    float64\n",
      " 18  Gross primary education enrollment (%)     188 non-null    float64\n",
      " 19  Gross tertiary education enrollment (%)    183 non-null    float64\n",
      " 20  Infant mortality                           189 non-null    float64\n",
      " 21  Largest city                               189 non-null    object \n",
      " 22  Life expectancy                            187 non-null    float64\n",
      " 23  Maternal mortality ratio                   181 non-null    float64\n",
      " 24  Minimum wage                               150 non-null    float64\n",
      " 25  Official language                          190 non-null    object \n",
      " 26  Out of pocket health expenditure           188 non-null    float64\n",
      " 27  Physicians per thousand                    188 non-null    float64\n",
      " 28  Population                                 194 non-null    float64\n",
      " 29  Population: Labor force participation (%)  176 non-null    float64\n",
      " 30  Tax revenue (%)                            169 non-null    float64\n",
      " 31  Total tax rate                             183 non-null    float64\n",
      " 32  Unemployment rate                          176 non-null    float64\n",
      " 33  Urban_population                           190 non-null    float64\n",
      " 34  country-code                               195 non-null    int64  \n",
      " 35  region                                     195 non-null    object \n",
      " 36  sub-region                                 195 non-null    object \n",
      " 37  alpha-2                                    195 non-null    object \n",
      " 38  alpha-3                                    195 non-null    object \n",
      "dtypes: float64(28), int64(2), object(9)\n",
      "memory usage: 59.5+ KB\n"
     ]
    }
   ],
   "source": [
    "df.info()"
   ]
  },
  {
   "cell_type": "markdown",
   "metadata": {},
   "source": [
    "Adding new features to the dataset using the existing features\n",
    "\n",
    "- GDP per capita\n",
    "- CO2 emissions per capita\n",
    "\n",
    "Calculating GDP per Capita:"
   ]
  },
  {
   "cell_type": "code",
   "execution_count": 16,
   "metadata": {},
   "outputs": [
    {
     "data": {
      "text/plain": [
       "0      502.115487\n",
       "1     5352.857411\n",
       "2     3948.343279\n",
       "3    40886.391162\n",
       "4     2973.591160\n",
       "Name: GDP per Capita, dtype: float64"
      ]
     },
     "execution_count": 16,
     "metadata": {},
     "output_type": "execute_result"
    }
   ],
   "source": [
    "\n",
    "# Calculate GDP per Capita\n",
    "df['GDP per Capita'] = df['GDP'] / df['Population']\n",
    "\n",
    "\n",
    "# Display the updated dataframe\n",
    "df['GDP per Capita'].head()\n"
   ]
  },
  {
   "cell_type": "markdown",
   "metadata": {},
   "source": [
    "calculating CO2 emissions per capita"
   ]
  },
  {
   "cell_type": "code",
   "execution_count": 17,
   "metadata": {},
   "outputs": [
    {
     "data": {
      "text/plain": [
       "0    0.227960\n",
       "1    1.589242\n",
       "2    3.484213\n",
       "3    6.079697\n",
       "4    1.090108\n",
       "Name: CO2 Emissions per Capita, dtype: float64"
      ]
     },
     "execution_count": 17,
     "metadata": {},
     "output_type": "execute_result"
    }
   ],
   "source": [
    "# Calculate CO2 emissions per capita\n",
    "df['CO2 Emissions per Capita'] = (df['Co2-Emissions'] * 1000) / df['Population']\n",
    "\n",
    "# Display the updated dataframe\n",
    "df['CO2 Emissions per Capita'].head()"
   ]
  },
  {
   "cell_type": "markdown",
   "metadata": {},
   "source": [
    "printing the countries with missing values for GDP per capita and CO2 emissions per capita"
   ]
  },
  {
   "cell_type": "code",
   "execution_count": 18,
   "metadata": {},
   "outputs": [
    {
     "name": "stdout",
     "output_type": "stream",
     "text": [
      "Countries with missing GDP per Capita:\n",
      "73                       Vatican City\n",
      "133    Palestinian National Authority\n",
      "Name: Country, dtype: object\n",
      "\n",
      "Countries with missing CO2 Emissions per Capita:\n",
      "56                           Eswatini\n",
      "73                       Vatican City\n",
      "113                            Monaco\n",
      "120                             Nauru\n",
      "128                   North Macedonia\n",
      "133    Palestinian National Authority\n",
      "149                        San Marino\n",
      "Name: Country, dtype: object\n"
     ]
    }
   ],
   "source": [
    "# Countries with missing GDP per Capita\n",
    "missing_gdp_per_capita = df[df['GDP per Capita'].isnull()]['Country']\n",
    "print(\"Countries with missing GDP per Capita:\")\n",
    "print(missing_gdp_per_capita)\n",
    "\n",
    "# Countries with missing CO2 Emissions per Capita\n",
    "missing_co2_per_capita = df[df['CO2 Emissions per Capita'].isnull()]['Country']\n",
    "print(\"\\nCountries with missing CO2 Emissions per Capita:\")\n",
    "print(missing_co2_per_capita)"
   ]
  },
  {
   "cell_type": "markdown",
   "metadata": {},
   "source": [
    "We will try to impute missing values from reliable sources if data is available"
   ]
  },
  {
   "cell_type": "code",
   "execution_count": 19,
   "metadata": {},
   "outputs": [],
   "source": [
    "# Adding the missing CO2 emissions data for countries\n",
    "df.loc[df['Country'] == 'Eswatini', 'CO2 Emissions per Capita'] = 0.9\n",
    "df.loc[df['Country'] == 'Nauru', 'CO2 Emissions per Capita'] = 4.8\n",
    "df.loc[df['Country'] == 'North Macedonia', 'CO2 Emissions per Capita'] = 4.1\n",
    "df.loc[df['Country'] == 'Palestinian National Authority', 'CO2 Emissions per Capita'] = 0.6"
   ]
  },
  {
   "cell_type": "markdown",
   "metadata": {},
   "source": [
    "Processing features"
   ]
  },
  {
   "cell_type": "code",
   "execution_count": 20,
   "metadata": {},
   "outputs": [],
   "source": [
    "df['Unemployment rate'] = df['Unemployment rate']*100"
   ]
  },
  {
   "cell_type": "markdown",
   "metadata": {},
   "source": [
    "converting all float point values to 3 decimal points"
   ]
  },
  {
   "cell_type": "code",
   "execution_count": 21,
   "metadata": {},
   "outputs": [],
   "source": [
    "df = df.round(3)"
   ]
  },
  {
   "cell_type": "markdown",
   "metadata": {},
   "source": [
    "checking countries with null values for the selected features in visualisation.\n",
    "\n",
    "Selected features: ['Country', 'Population', 'GDP per Capita', 'Gross primary education enrollment (%)', 'Gross tertiary education enrollment (%)', \\\n",
    "                'Unemployment rate', 'CO2 Emissions per Capita', 'Life expectancy', 'Physicians per thousand', 'Fertility Rate', 'Infant mortality', \\\n",
    "                    'Maternal mortality ratio', 'Out of pocket health expenditure']"
   ]
  },
  {
   "cell_type": "code",
   "execution_count": 22,
   "metadata": {},
   "outputs": [
    {
     "name": "stdout",
     "output_type": "stream",
     "text": [
      "Empty DataFrame\n",
      "Columns: [Country, Country]\n",
      "Index: []\n",
      "                            Country  Population\n",
      "133  Palestinian National Authority         NaN\n",
      "                            Country  GDP per Capita\n",
      "73                     Vatican City             NaN\n",
      "133  Palestinian National Authority             NaN\n",
      "                            Country  Gross primary education enrollment (%)\n",
      "21           Bosnia and Herzegovina                                     NaN\n",
      "56                         Eswatini                                     NaN\n",
      "73                     Vatican City                                     NaN\n",
      "113                          Monaco                                     NaN\n",
      "120                           Nauru                                     NaN\n",
      "128                 North Macedonia                                     NaN\n",
      "133  Palestinian National Authority                                     NaN\n",
      "                            Country  Gross tertiary education enrollment (%)\n",
      "3                           Andorra                                      NaN\n",
      "20                          Bolivia                                      NaN\n",
      "56                         Eswatini                                      NaN\n",
      "73                     Vatican City                                      NaN\n",
      "89                         Kiribati                                      NaN\n",
      "113                          Monaco                                      NaN\n",
      "120                           Nauru                                      NaN\n",
      "128                 North Macedonia                                      NaN\n",
      "133  Palestinian National Authority                                      NaN\n",
      "159                 Solomon Islands                                      NaN\n",
      "163                     South Sudan                                      NaN\n",
      "181                          Tuvalu                                      NaN\n",
      "                            Country  Unemployment rate\n",
      "3                           Andorra                NaN\n",
      "5               Antigua and Barbuda                NaN\n",
      "48                         Dominica                NaN\n",
      "56                         Eswatini                NaN\n",
      "67                          Grenada                NaN\n",
      "73                     Vatican City                NaN\n",
      "89                         Kiribati                NaN\n",
      "98                    Liechtenstein                NaN\n",
      "107                Marshall Islands                NaN\n",
      "111  Federated States of Micronesia                NaN\n",
      "113                          Monaco                NaN\n",
      "120                           Nauru                NaN\n",
      "128                 North Macedonia                NaN\n",
      "132                           Palau                NaN\n",
      "133  Palestinian National Authority                NaN\n",
      "145           Saint Kitts and Nevis                NaN\n",
      "149                      San Marino                NaN\n",
      "154                      Seychelles                NaN\n",
      "181                          Tuvalu                NaN\n",
      "          Country  CO2 Emissions per Capita\n",
      "73   Vatican City                       NaN\n",
      "113        Monaco                       NaN\n",
      "149    San Marino                       NaN\n",
      "                            Country  Life expectancy\n",
      "3                           Andorra              NaN\n",
      "56                         Eswatini              NaN\n",
      "73                     Vatican City              NaN\n",
      "113                          Monaco              NaN\n",
      "120                           Nauru              NaN\n",
      "128                 North Macedonia              NaN\n",
      "133  Palestinian National Authority              NaN\n",
      "181                          Tuvalu              NaN\n",
      "                            Country  Physicians per thousand\n",
      "56                         Eswatini                      NaN\n",
      "73                     Vatican City                      NaN\n",
      "98                    Liechtenstein                      NaN\n",
      "120                           Nauru                      NaN\n",
      "128                 North Macedonia                      NaN\n",
      "133  Palestinian National Authority                      NaN\n",
      "163                     South Sudan                      NaN\n",
      "                            Country  Fertility Rate\n",
      "56                         Eswatini             NaN\n",
      "73                     Vatican City             NaN\n",
      "113                          Monaco             NaN\n",
      "120                           Nauru             NaN\n",
      "128                 North Macedonia             NaN\n",
      "133  Palestinian National Authority             NaN\n",
      "181                          Tuvalu             NaN\n",
      "                            Country  Infant mortality\n",
      "56                         Eswatini               NaN\n",
      "73                     Vatican City               NaN\n",
      "98                    Liechtenstein               NaN\n",
      "120                           Nauru               NaN\n",
      "128                 North Macedonia               NaN\n",
      "133  Palestinian National Authority               NaN\n",
      "                            Country  Maternal mortality ratio\n",
      "3                           Andorra                       NaN\n",
      "48                         Dominica                       NaN\n",
      "56                         Eswatini                       NaN\n",
      "73                     Vatican City                       NaN\n",
      "98                    Liechtenstein                       NaN\n",
      "107                Marshall Islands                       NaN\n",
      "113                          Monaco                       NaN\n",
      "120                           Nauru                       NaN\n",
      "128                 North Macedonia                       NaN\n",
      "132                           Palau                       NaN\n",
      "133  Palestinian National Authority                       NaN\n",
      "145           Saint Kitts and Nevis                       NaN\n",
      "149                      San Marino                       NaN\n",
      "181                          Tuvalu                       NaN\n",
      "                            Country  Out of pocket health expenditure\n",
      "42                             Cuba                               NaN\n",
      "73                     Vatican City                               NaN\n",
      "98                    Liechtenstein                               NaN\n",
      "120                           Nauru                               NaN\n",
      "127                     North Korea                               NaN\n",
      "133  Palestinian National Authority                               NaN\n",
      "160                         Somalia                               NaN\n"
     ]
    }
   ],
   "source": [
    "#  print countries with null values for selected columns\n",
    "columns=['Country', 'Population', 'GDP per Capita', 'Gross primary education enrollment (%)', 'Gross tertiary education enrollment (%)', \\\n",
    "                'Unemployment rate', 'CO2 Emissions per Capita', 'Life expectancy', 'Physicians per thousand', 'Fertility Rate', 'Infant mortality', \\\n",
    "                    'Maternal mortality ratio', 'Out of pocket health expenditure']\n",
    "\n",
    "for col in columns:\n",
    "    print(df[df[col].isnull()][['Country', col]])\n",
    "    "
   ]
  },
  {
   "cell_type": "code",
   "execution_count": null,
   "metadata": {},
   "outputs": [],
   "source": []
  },
  {
   "cell_type": "code",
   "execution_count": 23,
   "metadata": {},
   "outputs": [],
   "source": [
    "# https://tradingeconomics.com/country-list/unemployment-rate?continent=world\n",
    "unemployment_rates = {'Lichenstein':1.4, 'Palesian National Authority': 31.1, 'Seychelles':3.2} \n",
    "\n",
    "# https://databank.worldbank.org/source/world-development-indicators/Series/SE.TER.ENRR\n",
    "tertiary_enrollment = {'Andorra': 64.3, 'Palau': 34.6, 'San Marino': 51.1, 'Marshall Islands': 53.3, 'North Macedonia': 53.2} \n",
    "\n",
    "# https://data.worldbank.org/indicator/SE.PRM.ENRR?locations=c\n",
    "primary_enrollment= {'Bosnia and Herzegovina': 87, 'Eswatini': 114, 'Nauru':101, 'North Macedonia': 97}\n",
    "\n",
    "# https://ourworldindata.org/life-expectancy\n",
    "life_expectancy = {'Eswatini': 64.1, 'Nauru': 62.1, 'North Macedonia': 77.4, 'Palestinian National Authority': 65.2, 'Tuvalu': 67.1, 'Andorra': 84, 'Monaco': 86.4} \n",
    "\n",
    "# https://www.cia.gov/the-world-factbook/field/infant-mortality-rate/country-comparison/\n",
    "infant_mortality = {'Eswatini': 36.7, 'Liechtenstein': 3.9, 'Nauru': 7.6, 'North Macedonia': 7}\n",
    "\n",
    "# https://www.cia.gov/the-world-factbook/field/total-fertility-rate/country-comparison/\n",
    "fertility_rate = {'Eswatini': 2.37, 'Nauru': 2.55, 'North Macedonia': 1.53, 'Monaco': 1.54, 'Tuvalu': 2.78}"
   ]
  },
  {
   "cell_type": "code",
   "execution_count": null,
   "metadata": {},
   "outputs": [],
   "source": []
  },
  {
   "cell_type": "markdown",
   "metadata": {},
   "source": [
    "maternal mortality, physicians per thousand, out of pocket health expenditure not available for all the countries that have missing data, data for coountries available for other features was sourced from reputable data sources. We will now add them to our dataset."
   ]
  },
  {
   "cell_type": "code",
   "execution_count": 24,
   "metadata": {},
   "outputs": [],
   "source": [
    "# Adding the missing data for unemployment rates\n",
    "for country, rate in unemployment_rates.items():\n",
    "    df.loc[df['Country'] == country, 'Unemployment rate'] = rate\n",
    "\n",
    "# Adding the missing data for tertiary enrollment\n",
    "for country, enrollment in tertiary_enrollment.items():\n",
    "    df.loc[df['Country'] == country, 'Gross tertiary education enrollment (%)'] = enrollment\n",
    "\n",
    "# Adding the missing data for primary enrollment\n",
    "for country, enrollment in primary_enrollment.items():\n",
    "    df.loc[df['Country'] == country, 'Gross primary education enrollment (%)'] = enrollment\n",
    "\n",
    "# Adding the missing data for life expectancy\n",
    "for country, expectancy in life_expectancy.items():\n",
    "    df.loc[df['Country'] == country, 'Life expectancy'] = expectancy\n",
    "\n",
    "# Adding the missing data for infant mortality\n",
    "for country, mortality in infant_mortality.items():\n",
    "    df.loc[df['Country'] == country, 'Infant mortality'] = mortality\n",
    "\n",
    "# Adding the missing data for fertility rate\n",
    "for country, rate in fertility_rate.items():\n",
    "    df.loc[df['Country'] == country, 'Fertility Rate'] = rate"
   ]
  },
  {
   "cell_type": "markdown",
   "metadata": {},
   "source": [
    "Importing geojson and preprocessing it"
   ]
  },
  {
   "cell_type": "code",
   "execution_count": 27,
   "metadata": {},
   "outputs": [
    {
     "name": "stdout",
     "output_type": "stream",
     "text": [
      "                       NAME ISO_A3  \\\n",
      "2                 W. Sahara    ESH   \n",
      "20             Falkland Is.    FLK   \n",
      "21                   Norway    -99   \n",
      "22                Greenland    GRL   \n",
      "23   Fr. S. Antarctic Lands    ATF   \n",
      "43                   France    -99   \n",
      "45              Puerto Rico    PRI   \n",
      "134           New Caledonia    NCL   \n",
      "140                  Taiwan    TWN   \n",
      "159              Antarctica    ATA   \n",
      "160               N. Cyprus    -99   \n",
      "167              Somaliland    -99   \n",
      "174                  Kosovo    -99   \n",
      "\n",
      "                                              geometry alpha-3  \n",
      "2    POLYGON ((-8.66559 27.65643, -8.66512 27.58948...     ESH  \n",
      "20   POLYGON ((-61.2 -51.85, -60 -51.25, -59.15 -51...     FLK  \n",
      "21   MULTIPOLYGON (((15.14282 79.67431, 15.52255 80...     -99  \n",
      "22   POLYGON ((-46.76379 82.62796, -43.40644 83.225...     GRL  \n",
      "23   POLYGON ((68.935 -48.625, 69.58 -48.94, 70.525...     ATF  \n",
      "43   MULTIPOLYGON (((-51.6578 4.15623, -52.24934 3....     -99  \n",
      "45   POLYGON ((-66.28243 18.51476, -65.7713 18.4266...     PRI  \n",
      "134  POLYGON ((165.77999 -21.08, 166.59999 -21.7000...     NCL  \n",
      "140  POLYGON ((121.77782 24.39427, 121.17563 22.790...     TWN  \n",
      "159  MULTIPOLYGON (((-48.66062 -78.04702, -48.1514 ...     ATA  \n",
      "160  POLYGON ((32.73178 35.14003, 32.80247 35.1455,...     -99  \n",
      "167  POLYGON ((48.9482 11.41062, 48.9482 11.41062, ...     -99  \n",
      "174  POLYGON ((20.59025 41.85541, 20.52295 42.21787...     -99  \n"
     ]
    }
   ],
   "source": [
    "url = \"https://naciscdn.org/naturalearth/110m/cultural/ne_110m_admin_0_countries.zip\"\n",
    "country_shapes = gpd.read_file(url)\n",
    "country_shapes = country_shapes[['NAME', 'ISO_A3', 'geometry']]\n",
    "country_shapes['alpha-3'] = country_shapes['ISO_A3']\n",
    "\n",
    "# printing countries where alpha-3 code doesnt match with the normal dataframe\n",
    "unmatched_codes = country_shapes[~country_shapes['alpha-3'].isin(df['alpha-3'])]\n",
    "\n",
    "print(unmatched_codes)"
   ]
  },
  {
   "cell_type": "code",
   "execution_count": 26,
   "metadata": {},
   "outputs": [],
   "source": [
    "df.to_csv('world-data-2023_cleaned.csv', index=False)"
   ]
  },
  {
   "cell_type": "markdown",
   "metadata": {},
   "source": [
    "Missing values for GDP per capita were not found for the countries and Missing data for CO2 emissions per capita was found for some of the countries.\n",
    "\n",
    "We will now move onto plotting the data using Altair. \n",
    "\n",
    "We have selected the following metrics to plot:\n",
    "- GDP per capita\n",
    "- CO2 emissions per capita\n",
    "- Population\n",
    "- Life expectancy\n",
    "- Continent\n",
    "- Life Expectancy\n",
    "- Infant Mortality\n",
    "- Fertility Rate\n",
    "- Physicians per Thousand\n",
    "- Maternal Mortality Ratio\n",
    "\n",
    "\n",
    "We will create the following graphs:\n",
    "\n",
    "1. Choropleth World Map:\n",
    "   - Attributes: GDP per Capita.\n",
    "   - Description: A world map where countries are color-coded based on GDP per capita.\n",
    "   - Interaction:\n",
    "      - Hover Tooltips: Display country name, GDP per capita, life expectancy, and CO₂ emissions per capita.\n",
    "      - Click to Select: Clicking on a country highlights it in all other views.\n",
    "      - Zoom and Pan: Users can zoom into regions of interest.\n",
    "      - Purpose: Provides a global overview of economic well-being, facilitating comparison between countries and regions.\n",
    "\n",
    "2. Scatter Plot: GDP per Capita vs. Life Expectancy\n",
    "   - Attributes:\n",
    "      - X-axis: GDP per Capita.\n",
    "      - Y-axis: Life Expectancy.\n",
    "   - Color Encoding: Continent.\n",
    "   - Size Encoding: Population.\n",
    "   - Description: Each point represents a country, showing the relationship between economic status and health outcomes.\n",
    "   - Interaction:\n",
    "      - Brushing: Selecting points to highlight corresponding countries on the map and other plots.\n",
    "      - Hover Tooltips: Display detailed information about the country.\n",
    "      - Purpose: Allows users to explore correlations and patterns between wealth and health.\n",
    "\n",
    "3. Interactive Box Plot: CO₂ Emissions per Capita\n",
    "   - Attributes: CO₂ Emissions per Capita.\n",
    "   - Description: Summarizes the distribution of CO₂ emissions per capita across countries.\n",
    "   - Interaction:\n",
    "      - Selection: Users can select quartiles or specific ranges to highlight countries in other views.\n",
    "      - Hover Tooltips: Provide statistical summaries (median, quartiles, outliers).\n",
    "      - Purpose: Highlights environmental impact without overcrowding the visualization, enabling users to identify countries with unusually high or low emissions.\n",
    "\n",
    "4. Parallel Coordinates Plot: Health Indicators\n",
    "   - Attributes:\n",
    "      - Life Expectancy\n",
    "      - Infant Mortality\n",
    "      - Fertility Rate\n",
    "      - Physicians per Thousand\n",
    "      - Maternal Mortality Ratio\n",
    "   - Description: Displays multiple health metrics for each country, with each line representing a country.\n",
    "   - Interaction:\n",
    "      - Brushing: Users can select ranges on any axis to filter and highlight countries.\n",
    "      - Linking: Selected countries are highlighted in all other views.\n",
    "      - Hover Tooltips: Provide detailed information on each country's health metrics.\n",
    "      - Purpose: Enables multivariate analysis of health indicators, revealing patterns and outliers."
   ]
  }
 ],
 "metadata": {
  "kernelspec": {
   "display_name": "Python 3",
   "language": "python",
   "name": "python3"
  },
  "language_info": {
   "codemirror_mode": {
    "name": "ipython",
    "version": 3
   },
   "file_extension": ".py",
   "mimetype": "text/x-python",
   "name": "python",
   "nbconvert_exporter": "python",
   "pygments_lexer": "ipython3",
   "version": "3.11.5"
  }
 },
 "nbformat": 4,
 "nbformat_minor": 2
}
